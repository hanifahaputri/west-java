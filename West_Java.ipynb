{
 "cells": [
  {
   "cell_type": "code",
   "execution_count": 18,
   "id": "242702a2",
   "metadata": {
    "scrolled": true
   },
   "outputs": [
    {
     "data": {
      "text/html": [
       "<div>\n",
       "<style scoped>\n",
       "    .dataframe tbody tr th:only-of-type {\n",
       "        vertical-align: middle;\n",
       "    }\n",
       "\n",
       "    .dataframe tbody tr th {\n",
       "        vertical-align: top;\n",
       "    }\n",
       "\n",
       "    .dataframe thead th {\n",
       "        text-align: right;\n",
       "    }\n",
       "</style>\n",
       "<table border=\"1\" class=\"dataframe\">\n",
       "  <thead>\n",
       "    <tr style=\"text-align: right;\">\n",
       "      <th></th>\n",
       "      <th>Kode Kabupaten Kota</th>\n",
       "      <th>Nama Kabupaten Kota</th>\n",
       "      <th>Jaminan Kesehatan</th>\n",
       "      <th>Jumlah Penduduk</th>\n",
       "    </tr>\n",
       "  </thead>\n",
       "  <tbody>\n",
       "    <tr>\n",
       "      <th>0</th>\n",
       "      <td>3201</td>\n",
       "      <td>KABUPATEN BOGOR</td>\n",
       "      <td>PENERIMA BANTUAN IURAN (PBI) APBN</td>\n",
       "      <td>1119615</td>\n",
       "    </tr>\n",
       "    <tr>\n",
       "      <th>1</th>\n",
       "      <td>3201</td>\n",
       "      <td>KABUPATEN BOGOR</td>\n",
       "      <td>PENERIMA BANTUAN IURAN (PBI) APBD</td>\n",
       "      <td>546641</td>\n",
       "    </tr>\n",
       "    <tr>\n",
       "      <th>2</th>\n",
       "      <td>3201</td>\n",
       "      <td>KABUPATEN BOGOR</td>\n",
       "      <td>PEKERJA PENERIMA UPAH (PPU)</td>\n",
       "      <td>792374</td>\n",
       "    </tr>\n",
       "    <tr>\n",
       "      <th>3</th>\n",
       "      <td>3201</td>\n",
       "      <td>KABUPATEN BOGOR</td>\n",
       "      <td>PEKERJA BUKAN PENERIMA UPAH (PBPU) / MANDIRI</td>\n",
       "      <td>999677</td>\n",
       "    </tr>\n",
       "    <tr>\n",
       "      <th>4</th>\n",
       "      <td>3201</td>\n",
       "      <td>KABUPATEN BOGOR</td>\n",
       "      <td>BUKAN PEKERJA (BP)</td>\n",
       "      <td>58725</td>\n",
       "    </tr>\n",
       "  </tbody>\n",
       "</table>\n",
       "</div>"
      ],
      "text/plain": [
       "   Kode Kabupaten Kota Nama Kabupaten Kota  \\\n",
       "0                 3201     KABUPATEN BOGOR   \n",
       "1                 3201     KABUPATEN BOGOR   \n",
       "2                 3201     KABUPATEN BOGOR   \n",
       "3                 3201     KABUPATEN BOGOR   \n",
       "4                 3201     KABUPATEN BOGOR   \n",
       "\n",
       "                              Jaminan Kesehatan  Jumlah Penduduk  \n",
       "0             PENERIMA BANTUAN IURAN (PBI) APBN          1119615  \n",
       "1             PENERIMA BANTUAN IURAN (PBI) APBD           546641  \n",
       "2                   PEKERJA PENERIMA UPAH (PPU)           792374  \n",
       "3  PEKERJA BUKAN PENERIMA UPAH (PBPU) / MANDIRI           999677  \n",
       "4                            BUKAN PEKERJA (BP)            58725  "
      ]
     },
     "execution_count": 18,
     "metadata": {},
     "output_type": "execute_result"
    }
   ],
   "source": [
    "import pandas as pd\n",
    "\n",
    "df_health = pd.read_csv('Jaminan Kesehatan Jabar - data.csv')\n",
    "\n",
    "df_health = df_health.drop(df_health.columns[[0, 1, 6]],axis = 1)\n",
    "\n",
    "df_health.columns = ['Kode Kabupaten Kota', 'Nama Kabupaten Kota', 'Jaminan Kesehatan', 'Jumlah Penduduk']\n",
    "\n",
    "df_health.head()\n",
    "# df_health.dtypes\n",
    "# df_health.describe().applymap('{:,.0f}'.format)\n",
    "# df_health.describe(include=[object])"
   ]
  },
  {
   "cell_type": "code",
   "execution_count": 1,
   "id": "3fcb51a9",
   "metadata": {
    "scrolled": true
   },
   "outputs": [
    {
     "name": "stdout",
     "output_type": "stream",
     "text": [
      "55670\n"
     ]
    }
   ],
   "source": [
    "import pandas as pd\n",
    "\n",
    "df_facilities = pd.read_csv('Jumlah Faskes Jabar - data.csv')\n",
    "\n",
    "df_facilities.isna().sum()\n",
    "\n",
    "df_facilities = df_facilities.drop(df_facilities.columns[[0, 1, 6]],axis = 1)\n",
    "\n",
    "df_facilities.columns = ['Kode Kabupaten Kota', 'Nama Kabupaten Kota', 'Jenis Fasilitas Kesehatan', 'Jumlah Fasilitas Kesehatan']\n",
    "\n",
    "# df_facilities.head()\n",
    "# df_facilities.info()\n",
    "# df_facilities.dtypes\n",
    "# df_facilities.describe().applymap('{:,.0f}'.format)\n",
    "# df_facilities.describe(include=[object])\n",
    "print(df_facilities['Jumlah Fasilitas Kesehatan'].sum())"
   ]
  },
  {
   "cell_type": "code",
   "execution_count": null,
   "id": "709a2d85",
   "metadata": {},
   "outputs": [],
   "source": []
  }
 ],
 "metadata": {
  "kernelspec": {
   "display_name": "Python 3 (ipykernel)",
   "language": "python",
   "name": "python3"
  },
  "language_info": {
   "codemirror_mode": {
    "name": "ipython",
    "version": 3
   },
   "file_extension": ".py",
   "mimetype": "text/x-python",
   "name": "python",
   "nbconvert_exporter": "python",
   "pygments_lexer": "ipython3",
   "version": "3.10.5"
  }
 },
 "nbformat": 4,
 "nbformat_minor": 5
}
